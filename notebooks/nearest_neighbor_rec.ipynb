{
 "cells": [
  {
   "cell_type": "code",
   "execution_count": 1,
   "metadata": {},
   "outputs": [],
   "source": [
    "import os\n",
    "import numpy as np\n",
    "import pandas as pd\n",
    "from sklearn import preprocessing\n",
    "pd.options.mode.chained_assignment = None\n",
    "from sklearn.neighbors import NearestNeighbors"
   ]
  },
  {
   "cell_type": "code",
   "execution_count": 2,
   "metadata": {},
   "outputs": [],
   "source": [
    "data_path = os.path.join(os.getcwd(), 'data', 'the-movies-dataset')\n",
    "movies = pd.read_csv(os.path.join(data_path, 'movies_preprocessed.csv'))\n",
    "movies.drop_duplicates(subset='id', inplace=True)"
   ]
  },
  {
   "cell_type": "markdown",
   "metadata": {},
   "source": [
    "## NN_Recommender"
   ]
  },
  {
   "cell_type": "code",
   "execution_count": 3,
   "metadata": {},
   "outputs": [],
   "source": [
    "class NNRecommender():\n",
    "    features = ['id', 'popularity', 'runtime', 'vote_average', 'vote_count', 'Action',\n",
    "       'Adventure', 'Animation', 'Comedy', 'Crime', 'Documentary', 'Drama',\n",
    "       'Family', 'Fantasy', 'Foreign', 'History', 'Horror', 'Music', 'Mystery',\n",
    "       'Romance', 'Science Fiction', 'TV Movie', 'Thriller', 'War', 'Western',\n",
    "       'en', 'fr', 'it', 'ja', 'de', 'es', 'ru', 'woman director',\n",
    "       'independent film', 'murder', 'based on novel', 'musical', 'sex',\n",
    "       'violence', 'nudity', 'biography', 'revenge', 'suspense', 'love',\n",
    "       'female nudity', 'sport', 'police', 'teenager', 'duringcreditsstinger',\n",
    "       'sequel', 'friendship', 'world war ii']\n",
    "    \n",
    "    def __init__(self, data, k=6, metric='minkowski', leaf_size=30):\n",
    "        # normalize data\n",
    "        data['popularity'] = data['popularity'] / data['popularity'].max()\n",
    "        data['runtime'] = data['runtime'] / data['runtime'].max()\n",
    "        data['vote_average'] = data['vote_average'] / data['vote_average'].max()\n",
    "        data['vote_count'] = data['vote_count'] / data['vote_count'].max()\n",
    "        # impute missing data\n",
    "        data['runtime'] = data['runtime'].fillna(data['runtime'].mean())\n",
    "        self.data = data[self.features]\n",
    "        self.nn = NearestNeighbors(n_neighbors=k, metric=metric, leaf_size=leaf_size)\n",
    "        self.nn.fit(self.data.drop('id', axis=1))\n",
    "        \n",
    "    def _indices_to_movie_id(self, indices):\n",
    "        movie_ids = []\n",
    "        for index in indices:\n",
    "            movie_ids.append(self.data.iloc[index]['id'].values)\n",
    "        return movie_ids[0][1:]\n",
    "        \n",
    "    def recommend(self, movie_id, return_distance=False):\n",
    "        movie = self.data[self.data['id'] == movie_id].drop('id', axis=1).values\n",
    "        distances, indices = self.nn.kneighbors(movie)\n",
    "        recommendations = self._indices_to_movie_id(indices)\n",
    "        if return_distance:\n",
    "            return recommendations, distances\n",
    "        return recommendations"
   ]
  },
  {
   "cell_type": "code",
   "execution_count": 4,
   "metadata": {},
   "outputs": [],
   "source": [
    "def translate_id_to_title(ids, data):\n",
    "    titles = []\n",
    "    for i in ids:\n",
    "        titles.append(data[data['id'] == i]['title'].values[0])\n",
    "    return titles"
   ]
  },
  {
   "cell_type": "code",
   "execution_count": 5,
   "metadata": {},
   "outputs": [],
   "source": [
    "nnr = NNRecommender(movies, k=10, metric='cosine')"
   ]
  },
  {
   "cell_type": "markdown",
   "metadata": {},
   "source": [
    "## Sample Tests"
   ]
  },
  {
   "cell_type": "code",
   "execution_count": 6,
   "metadata": {
    "scrolled": true
   },
   "outputs": [
    {
     "name": "stdout",
     "output_type": "stream",
     "text": [
      "Movie:  ['The Matrix']\n",
      "Recommendations:\n",
      "['Æon Flux', \"Independents' Day\", 'Lucy', 'Edge of Tomorrow', 'Superman: Doomsday', 'Green Lantern: First Flight', 'Testament', 'The Chronicles of Riddick', 'Battle: Los Angeles']\n",
      "\n",
      "Movie:  ['Forrest Gump']\n",
      "Recommendations:\n",
      "['Silver Linings Playbook', 'Three Steps Above Heaven', 'Looking: The Movie', 'Spring', 'Hands Across the Table', 'The Low Down', 'Feast of Love', 'Manhattan', 'Miss You Already']\n",
      "\n",
      "Movie:  ['Iron Man']\n",
      "Recommendations:\n",
      "['Iron Man 3', 'Star Wars', 'The Empire Strikes Back', 'X-Men: First Class', 'Rogue One: A Star Wars Story', 'Return of the Jedi', 'Star Trek', 'Star Wars: Episode I - The Phantom Menace', '2012']\n",
      "\n",
      "Movie:  ['Pulp Fiction']\n",
      "Recommendations:\n",
      "['Now You See Me', 'Reservoir Dogs', \"Ocean's Eleven\", 'Headhunters', 'The Frozen Ground', 'Get Carter', 'Kalifornia', 'Cohen and Tate', 'If I Die Before I Wake']\n",
      "\n",
      "Movie:  ['Ben-Hur']\n",
      "Recommendations:\n",
      "['The Count of Monte-Cristo', 'The Message', 'The Mission', 'Scott of the Antarctic', 'The Wind and the Lion', 'Mountains of the Moon', 'H.M.S. Defiant', '1492: Conquest of Paradise', 'Demetrius and the Gladiators']\n",
      "\n",
      "Movie:  ['Life of Brian']\n",
      "Recommendations:\n",
      "['Clerks', 'The Great Dictator', 'Airplane!', 'Trading Places', \"National Lampoon's Christmas Vacation\", 'Planes, Trains and Automobiles', 'Fear City: A Family-Style Comedy', 'Zelig', 'Duck Soup']\n",
      "\n",
      "Movie:  ['Taxi Driver']\n",
      "Recommendations:\n",
      "['Requiem for a Dream', 'American Gangster', 'Casino', 'Blow', 'American Hustle', 'The Place Beyond the Pines', 'Once Upon a Time in America', 'Papillon', 'Cool Hand Luke']\n",
      "\n",
      "Movie:  ['Princess Mononoke']\n",
      "Recommendations:\n",
      "[\"Howl's Moving Castle\", 'Cardcaptor Sakura: The Movie', 'One Piece Film Strong World', 'Pom Poko', 'Pokémon Origins', 'Mei and the Kittenbus', 'Princess Arete', 'Pokémon: Lucario and the Mystery of Mew', 'Yu☆Gi☆Oh!']\n",
      "\n"
     ]
    }
   ],
   "source": [
    "test_movies = [603, 13, 1726, 680, 665, 583, 103, 128]\n",
    "for movie_id in test_movies:\n",
    "    print('Movie: ', translate_id_to_title([movie_id], movies))\n",
    "    recommendations = nnr.recommend(movie_id=movie_id)\n",
    "    titles = translate_id_to_title(recommendations, movies)\n",
    "    print('Recommendations:\\n{}'.format(titles))\n",
    "    print()"
   ]
  }
 ],
 "metadata": {
  "kernelspec": {
   "display_name": "Python 3",
   "language": "python",
   "name": "python3"
  },
  "language_info": {
   "codemirror_mode": {
    "name": "ipython",
    "version": 3
   },
   "file_extension": ".py",
   "mimetype": "text/x-python",
   "name": "python",
   "nbconvert_exporter": "python",
   "pygments_lexer": "ipython3",
   "version": "3.7.0"
  },
  "toc": {
   "nav_menu": {
    "height": "48px",
    "width": "252px"
   },
   "number_sections": false,
   "sideBar": true,
   "skip_h1_title": false,
   "title_cell": "Table of Contents",
   "title_sidebar": "Contents",
   "toc_cell": false,
   "toc_position": {},
   "toc_section_display": "block",
   "toc_window_display": false
  }
 },
 "nbformat": 4,
 "nbformat_minor": 2
}
