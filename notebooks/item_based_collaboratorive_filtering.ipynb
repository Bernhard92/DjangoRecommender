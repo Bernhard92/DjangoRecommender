{
 "cells": [
  {
   "cell_type": "code",
   "execution_count": 16,
   "metadata": {},
   "outputs": [],
   "source": [
    "import os\n",
    "import pandas as pd\n",
    "import matplotlib.pyplot as plt\n",
    "from sklearn.neighbors import NearestNeighbors\n",
    "from scipy.sparse import csr_matrix\n",
    "import gc"
   ]
  },
  {
   "cell_type": "code",
   "execution_count": 17,
   "metadata": {},
   "outputs": [],
   "source": [
    "data_path = os.path.join(os.getcwd(), '../data/the-movies-dataset/')\n",
    "movies = pd.read_csv(os.path.join(data_path, 'movies_preprocessed.csv'))\n",
    "ratings = pd.read_csv(os.path.join(data_path, 'ratings.csv'))"
   ]
  },
  {
   "cell_type": "code",
   "execution_count": 18,
   "metadata": {},
   "outputs": [
    {
     "name": "stdout",
     "output_type": "stream",
     "text": [
      "   userId  movieId  rating   timestamp\n",
      "0       1      110     1.0  1425941529\n",
      "1       1      147     4.5  1425942435\n",
      "2       1      858     5.0  1425941523\n",
      "3       1     1221     5.0  1425941546\n",
      "4       1     1246     5.0  1425941556\n",
      "(26024289, 4)\n"
     ]
    }
   ],
   "source": [
    "print(ratings.head())\n",
    "print(ratings.shape)"
   ]
  },
  {
   "cell_type": "markdown",
   "metadata": {},
   "source": [
    "### Plot occurences of ratings per movie"
   ]
  },
  {
   "cell_type": "code",
   "execution_count": 19,
   "metadata": {},
   "outputs": [
    {
     "data": {
      "image/png": "[encoded data removed]",
      "text/plain": [
       "<Figure size 432x288 with 1 Axes>"
      ]
     },
     "metadata": {
      "needs_background": "light"
     },
     "output_type": "display_data"
    }
   ],
   "source": [
    "ratings_per_movie = ratings['movieId'].value_counts()\n",
    "plt.plot(ratings_per_movie.values)\n",
    "plt.xlabel('movies')\n",
    "plt.ylabel('frequency')\n",
    "plt.show()"
   ]
  },
  {
   "cell_type": "markdown",
   "metadata": {},
   "source": [
    "The plot shows that a small amount of movies have received many ratings, whereas the most movies only got few. "
   ]
  },
  {
   "cell_type": "markdown",
   "metadata": {},
   "source": [
    "### Filter unpopular movies, and recommendations of people that don't recommed often"
   ]
  },
  {
   "cell_type": "code",
   "execution_count": 20,
   "metadata": {},
   "outputs": [],
   "source": [
    "# the movie must have at least n recommendations\n",
    "threshold_movie='10' \n",
    "# the movies must have received at least n recommendations\n",
    "threshold_user='300'"
   ]
  },
  {
   "cell_type": "code",
   "execution_count": 22,
   "metadata": {},
   "outputs": [],
   "source": [
    "df_movies_cnt = pd.DataFrame(ratings.groupby('movieId').size(), columns=['count'])\n",
    "popular_movies = list(set(df_movies_cnt.query('count >= '+threshold_movie).index))\n",
    "movies_filter = ratings.movieId.isin(popular_movies).values\n",
    "\n",
    "df_users_cnt = pd.DataFrame(ratings.groupby('userId').size(), columns=['count'])\n",
    "active_users = list(set(df_users_cnt.query('count >= '+threshold_user).index)) \n",
    "users_filter = ratings.userId.isin(active_users).values"
   ]
  },
  {
   "cell_type": "code",
   "execution_count": 23,
   "metadata": {},
   "outputs": [],
   "source": [
    "ratings_filtered = ratings[movies_filter & users_filter]"
   ]
  },
  {
   "cell_type": "markdown",
   "metadata": {},
   "source": [
    "### Create pivot table"
   ]
  },
  {
   "cell_type": "markdown",
   "metadata": {},
   "source": [
    "Creates a pivot table with movieIds as row indizes, userIds as column indizes and ratings in the cells"
   ]
  },
  {
   "cell_type": "code",
   "execution_count": 25,
   "metadata": {},
   "outputs": [],
   "source": [
    "movie_features = ratings_filtered.pivot(index='movieId', columns='userId', values='rating').fillna(0)"
   ]
  },
  {
   "cell_type": "code",
   "execution_count": 26,
   "metadata": {},
   "outputs": [
    {
     "data": {
      "text/plain": [
       "(21255, 20260)"
      ]
     },
     "execution_count": 26,
     "metadata": {},
     "output_type": "execute_result"
    }
   ],
   "source": [
    "movie_features.shape"
   ]
  },
  {
   "cell_type": "markdown",
   "metadata": {},
   "source": [
    "### Convert dataframe of movie features to scipy sparse matrix"
   ]
  },
  {
   "cell_type": "code",
   "execution_count": 28,
   "metadata": {},
   "outputs": [],
   "source": [
    "movie_features_compressed = csr_matrix(movie_features.values)"
   ]
  },
  {
   "cell_type": "code",
   "execution_count": 29,
   "metadata": {},
   "outputs": [
    {
     "data": {
      "image/png": "[encoded data removed]",
      "text/plain": [
       "<Figure size 432x288 with 1 Axes>"
      ]
     },
     "metadata": {
      "needs_background": "light"
     },
     "output_type": "display_data"
    }
   ],
   "source": [
    "ratings_per_movie = ratings_subsample['movieId'].value_counts()\n",
    "plt.plot(ratings_per_movie.values)\n",
    "plt.xlabel('movies')\n",
    "plt.ylabel('frequency')\n",
    "plt.show()"
   ]
  },
  {
   "cell_type": "markdown",
   "metadata": {},
   "source": [
    "### Create the model"
   ]
  },
  {
   "cell_type": "code",
   "execution_count": 32,
   "metadata": {},
   "outputs": [
    {
     "data": {
      "text/plain": [
       "2433"
      ]
     },
     "execution_count": 32,
     "metadata": {},
     "output_type": "execute_result"
    }
   ],
   "source": [
    "k = 10\n",
    "data = movie_features_compressed\n",
    "model_knn = NearestNeighbors(metric='cosine', algorithm='brute', n_neighbors=k, n_jobs=-1)\n",
    "model_knn.fit(data)\n",
    "\n",
    "# clean up\n",
    "del df_movies_cnt, df_users_cnt\n",
    "del ratings, ratings_filtered, #movie_features\n",
    "gc.collect()"
   ]
  },
  {
   "cell_type": "markdown",
   "metadata": {},
   "source": [
    "### Make recommendations"
   ]
  },
  {
   "cell_type": "code",
   "execution_count": 43,
   "metadata": {},
   "outputs": [],
   "source": [
    "def recommend(movie_id, k=10):\n",
    "    \"\"\"Gets the id of an movie and returns the ids of the recommended movies\n",
    "    @param movie_id: The movie id of the movie for which recommendations are to be made\n",
    "    @type movie_id: int\n",
    "    @param k: Number of neighbors that should be taken into account\n",
    "    @type k: int\n",
    "    @returns: A list containing the movie ids of the recommended movies \n",
    "    \"\"\"\n",
    "    result = []\n",
    "    if movie_id in movie_features.index:\n",
    "        distances, recommendations = model_knn.kneighbors(data[movie_id])\n",
    "        neighbors = recommendations[0][1:]\n",
    "\n",
    "        for neighbor in neighbors:\n",
    "            if neighbor in movies['id'].values:\n",
    "                result.append(neighbor)\n",
    "    else:\n",
    "        print('no result for given Id')\n",
    "    return result[:k]"
   ]
  },
  {
   "cell_type": "markdown",
   "metadata": {},
   "source": [
    "### Sample test"
   ]
  },
  {
   "cell_type": "code",
   "execution_count": 35,
   "metadata": {},
   "outputs": [],
   "source": [
    "def translate_id_to_title(ids, data):\n",
    "    \"\"\"Translate the movieIds into the corresponding titles\n",
    "    @param data: List of movie ids\n",
    "    @type data: list\n",
    "    @returns: A list containing the movie titles\n",
    "    \"\"\"\n",
    "    titles = []\n",
    "    for i in ids:\n",
    "        titles.append(data[data['id'] == i]['title'].values[0])\n",
    "    return titles"
   ]
  },
  {
   "cell_type": "code",
   "execution_count": 44,
   "metadata": {},
   "outputs": [
    {
     "name": "stdout",
     "output_type": "stream",
     "text": [
      "Movie:  ['The Matrix']\n",
      "Recommendations:\n",
      "['Double Indemnity', 'Easy Rider', 'K-PAX', 'For Your Eyes Only', \"Muriel's Wedding\", 'October (Ten Days that Shook the World)', 'Fat Girl', 'Tarnation']\n",
      "\n",
      "Movie:  ['Forrest Gump']\n",
      "Recommendations:\n",
      "['Meet Joe Black', 'The Simpsons Movie', 'Kill Bill: Vol. 1', 'Arlington Road', 'The Wrong Trousers']\n",
      "\n",
      "Movie:  ['Iron Man']\n",
      "Recommendations:\n",
      "['Asterix at the Olympic Games']\n",
      "\n",
      "Movie:  ['Pulp Fiction']\n",
      "Recommendations:\n",
      "['Reservoir Dogs', 'Cruel Intentions', 'Eraserhead', 'The Man with the Golden Gun']\n",
      "\n",
      "Movie:  ['Ben-Hur']\n",
      "Recommendations:\n",
      "['Double Dragon', '300', 'Crime of Passion']\n",
      "\n",
      "Movie:  ['Life of Brian']\n",
      "Recommendations:\n",
      "['Drugstore Cowboy', 'Oliver Twist']\n",
      "\n",
      "Movie:  ['Taxi Driver']\n",
      "Recommendations:\n",
      "['Johnny Handsome', 'Flashdance', 'The Da Vinci Code', 'Dancer in the Dark', 'Dances with Wolves', 'Gloomy Sunday']\n",
      "\n",
      "Movie:  ['Princess Mononoke']\n",
      "Recommendations:\n",
      "[\"Who's Afraid of Virginia Woolf?\", 'Life Is Beautiful', 'Pünktchen und Anton', 'Hallettsville', 'Ladyhawke']\n",
      "\n"
     ]
    }
   ],
   "source": [
    "test_movies = [603, 13, 1726, 680, 665, 583, 103, 128]\n",
    "for movie_id in test_movies:\n",
    "    print('Movie: ', translate_id_to_title([movie_id], movies))\n",
    "    recommendations = recommend(movie_id=movie_id)\n",
    "    titles = translate_id_to_title(recommendations, movies)\n",
    "    print('Recommendations:\\n{}'.format(titles))\n",
    "    print()"
   ]
  }
 ],
 "metadata": {
  "kernelspec": {
   "display_name": "Python 3",
   "language": "python",
   "name": "python3"
  },
  "language_info": {
   "codemirror_mode": {
    "name": "ipython",
    "version": 3
   },
   "file_extension": ".py",
   "mimetype": "text/x-python",
   "name": "python",
   "nbconvert_exporter": "python",
   "pygments_lexer": "ipython3",
   "version": "3.7.3"
  },
  "toc": {
   "base_numbering": 1,
   "nav_menu": {},
   "number_sections": true,
   "sideBar": true,
   "skip_h1_title": false,
   "title_cell": "Table of Contents",
   "title_sidebar": "Contents",
   "toc_cell": false,
   "toc_position": {},
   "toc_section_display": true,
   "toc_window_display": false
  },
  "varInspector": {
   "cols": {
    "lenName": 16,
    "lenType": 16,
    "lenVar": 40
   },
   "kernels_config": {
    "python": {
     "delete_cmd_postfix": "",
     "delete_cmd_prefix": "del ",
     "library": "var_list.py",
     "varRefreshCmd": "print(var_dic_list())"
    },
    "r": {
     "delete_cmd_postfix": ") ",
     "delete_cmd_prefix": "rm(",
     "library": "var_list.r",
     "varRefreshCmd": "cat(var_dic_list()) "
    }
   },
   "types_to_exclude": [
    "module",
    "function",
    "builtin_function_or_method",
    "instance",
    "_Feature"
   ],
   "window_display": false
  }
 },
 "nbformat": 4,
 "nbformat_minor": 2
}
