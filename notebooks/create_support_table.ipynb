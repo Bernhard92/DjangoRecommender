{
 "cells": [
  {
   "cell_type": "markdown",
   "metadata": {},
   "source": [
    "#### Create a distance matrix with movieIds as row and column indices. "
   ]
  },
  {
   "cell_type": "code",
   "execution_count": null,
   "metadata": {},
   "outputs": [],
   "source": [
    "import os\n",
    "import pandas as pd\n",
    "import multiprocessing as mp\n",
    "from multiprocessing import Lock, Process, Queue, current_process\n",
    "from functools import partial\n",
    "import numpy as np"
   ]
  },
  {
   "cell_type": "markdown",
   "metadata": {},
   "source": [
    "Take a full column and calculate all support values"
   ]
  },
  {
   "cell_type": "code",
   "execution_count": null,
   "metadata": {},
   "outputs": [],
   "source": [
    "def calc_support_of_column(item1, item2, support, transactions):\n",
    "    \"\"\"Calculates the support of a hole column\n",
    "    @param item1: The movie id of the fist item\n",
    "    @type item1: int\n",
    "    @param item2: A column of movie ids\n",
    "    @type item2: pandas.Series\n",
    "    @returns: The support of the hole column with the given value\n",
    "    \"\"\"\n",
    "    res = list(map(partial(calc_support, item2=item2, support=support, transactions=transactions), item1))\n",
    "    return pd.Series(res, index=item1, name=item2)"
   ]
  },
  {
   "cell_type": "markdown",
   "metadata": {},
   "source": [
    "Calc the support of two items"
   ]
  },
  {
   "cell_type": "code",
   "execution_count": null,
   "metadata": {},
   "outputs": [],
   "source": [
    "def calc_support(item1, item2, support, transactions, relative=True):\n",
    "    \"\"\"Calculates the support of two given items\n",
    "    @param item1: The movie id of the fist movie\n",
    "    @type item1: int\n",
    "    @param item2: The movie id of the second movie\n",
    "    @type item2: int\n",
    "    @returns: The support of the two given movies\n",
    "    \"\"\"\n",
    "    conjunction = 0\n",
    "    joint = 0\n",
    "\n",
    "    for transaction in transactions:\n",
    "        if item1 in transaction and item2 in transaction:\n",
    "            conjunction += 1\n",
    "        if item1 in transaction or item2 in transaction: \n",
    "            joint += 1\n",
    "    if relative:\n",
    "        return conjunction/joint\n",
    "    else:\n",
    "        return conjunction/len(transactions)"
   ]
  },
  {
   "cell_type": "markdown",
   "metadata": {},
   "source": [
    "Create subprocesses that iterate through the columns of the matrix and calculate support"
   ]
  },
  {
   "cell_type": "code",
   "execution_count": null,
   "metadata": {},
   "outputs": [],
   "source": [
    "print('Main Process: ', os.getpid())\n",
    "\n",
    "# Loading Data\n",
    "data_path = os.path.join(os.getcwd(), 'data')\n",
    "ratings = pd.read_csv(os.path.join(data_path, 'ratings_small.csv'),  low_memory=False)\n",
    "\n",
    "\n",
    "# Create a Pivot Table with 1 if the user has rated the movie and 0 if he has not done so\n",
    "\n",
    "# reduced the dataset to the needed features and convert it to a matrix\n",
    "user_ratings = ratings.pivot_table(index='userId', columns='movieId', values='rating').fillna(0)\n",
    "user_ratings = user_ratings.astype(bool).astype(int)\n",
    "\n",
    "\n",
    "# Change every 1 to the according Movie ID (Column)\n",
    "for idx, row in user_ratings.iterrows():\n",
    "    for i in user_ratings.columns:\n",
    "        if row[i] != 0:\n",
    "            user_ratings.at[idx, i] = i\n",
    "    if(idx % 100 == 0):\n",
    "        print('idx: ', idx)\n",
    "\n",
    "# Creating the itemsets\n",
    "transactions = user_ratings.values.tolist()\n",
    "for i in range(0, len(transactions)):\n",
    "    transactions[i] = [value for value in transactions[i]if value != 0]\n",
    "\n",
    "# Get the distinct movie ids\n",
    "movie_items = set()\n",
    "for list_ in transactions:\n",
    "    movie_items.update(list_)\n",
    "\n",
    "movie_items = sorted(movie_items)\n",
    "\n",
    "# create the dataframe that will later be used to store the support.\n",
    "# The columns and row indizes are the movieIds\n",
    "support = pd.DataFrame(columns=movie_items, index=movie_items)\n",
    "\n",
    "# Create as many processes as CPU Cores exist\n",
    "pool = mp.Pool(processes=mp.cpu_count())\n",
    "\n",
    "# Every process takes asynchronous one columns from the dataframe and calculates the support value\n",
    "results = []\n",
    "for i in range(len(support.columns)):\n",
    "    print('column: ', i)\n",
    "    results.append(pool.apply_async(calc_support_of_column, \n",
    "        args = (support[support.columns[i]].index, support.columns[i], support, transactions),\n",
    "        ))\n",
    "\n",
    "# Wait for the subprocesses to terminate\n",
    "pool.close()\n",
    "pool.join()\n",
    "\n",
    "print('Sub processes terminated')\n",
    "\n",
    "count = 0\n",
    "for result in results:\n",
    "    if(count % 100 == 0):\n",
    "        print(count, 'results processed')\n",
    "    column = result.get()\n",
    "    support[column.name] = column\n",
    "\n",
    "print(support.head())\n",
    "\n",
    "# Write results in the csv file\n",
    "#support.to_csv('support_small_multiprocess_vectorized.csv')"
   ]
  }
 ],
 "metadata": {
  "kernelspec": {
   "display_name": "Python 3",
   "language": "python",
   "name": "python3"
  },
  "language_info": {
   "codemirror_mode": {
    "name": "ipython",
    "version": 3
   },
   "file_extension": ".py",
   "mimetype": "text/x-python",
   "name": "python",
   "nbconvert_exporter": "python",
   "pygments_lexer": "ipython3",
   "version": "3.7.3"
  },
  "toc": {
   "base_numbering": 1,
   "nav_menu": {},
   "number_sections": true,
   "sideBar": true,
   "skip_h1_title": false,
   "title_cell": "Table of Contents",
   "title_sidebar": "Contents",
   "toc_cell": false,
   "toc_position": {},
   "toc_section_display": true,
   "toc_window_display": false
  },
  "varInspector": {
   "cols": {
    "lenName": 16,
    "lenType": 16,
    "lenVar": 40
   },
   "kernels_config": {
    "python": {
     "delete_cmd_postfix": "",
     "delete_cmd_prefix": "del ",
     "library": "var_list.py",
     "varRefreshCmd": "print(var_dic_list())"
    },
    "r": {
     "delete_cmd_postfix": ") ",
     "delete_cmd_prefix": "rm(",
     "library": "var_list.r",
     "varRefreshCmd": "cat(var_dic_list()) "
    }
   },
   "types_to_exclude": [
    "module",
    "function",
    "builtin_function_or_method",
    "instance",
    "_Feature"
   ],
   "window_display": false
  }
 },
 "nbformat": 4,
 "nbformat_minor": 2
}
